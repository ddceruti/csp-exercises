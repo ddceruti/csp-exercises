{
 "cells": [
  {
   "cell_type": "markdown",
   "metadata": {},
   "source": [
    "# Modeling of a Supercritical CO2 Joule Cycle\n",
    "\n",
    "In recent years, the search for efficient and sustainable energy solutions has led to significant advances in power generation technologies. Among these innovations, the Supercritical CO2 Joule Cycle stands out as a promising candidate for improving the efficiency and economics of thermal power plants.\n",
    "\n",
    "Supercritical CO2 (sCO2) Brayton-cycle energy conversion systems transform heat energy into electrical energy using sCO2 rather than steam in the Rankine cycle systems commonly used in today's CSP, coal, nuclear, and combined-cycle gas plants. Studies indicate that the closed-loop sCO2 cycle can provide higher cycle efficiency versus superheated or supercritical steam cycles at temperatures relevant for CSP applications. Brayton-cycle systems using sCO2 are more compact, have lower thermal mass, and simpler power blocks compared to Rankine cycles. However, this cycle needs high temperatures when compared to the actual temperatures below 600°C. There are several potential technology pathways including particle, advanced molten-salt, and gas-phase HTFs, which are being investigates to reach higher temperatures. [Concentrating Solar Power Gen3 Demonstration Roadmap](https://www.nrel.gov/docs/fy17osti/67464.pdf)\n",
    "\n",
    "The exercise is heavily based on the paper:\n",
    "> Penkuhn M, Tsatsaronis G. Exergoeconomic analyses of different sCO2 cycle configurations. InProceedings of the 6th International Symposium—Supercritical CO2 Power Cycles, Pittsburgh, PA, USA 2018 Mar (pp. 27-29). [https://sco2symposium.com/papers2018/cycles/052_Paper.pdf](https://sco2symposium.com/papers2018/cycles/052_Paper.pdf)\n",
    "\n",
    "And the code by Francesco Witte:\n",
    "<https://github.com/fwitte/sCO2_exergy> archived with DOI: [10.5281/zenodo.4751796](https://zenodo.org/record/4751796)\n",
    "## Authors\n",
    "\n",
    "The authors of this exercise are:\n",
    "\n",
    "- Amedeo Ceruti\n",
    "- Urbano Tataranni\n",
    "- Hassan Hussein\n",
    "- Jihad Jundi"
   ]
  },
  {
   "cell_type": "markdown",
   "metadata": {},
   "source": [
    "## Defining the Supercritical CO2 Joule Cycle\n",
    "\n",
    "The code for the power plant simulation is performed in a very similar manner to that performed for exercise 03. The cycle consists of several key components:\n",
    "- **Compressors (CP1 and CP2)**: These components compress the CO2 to higher pressures, crucial for maintaining cycle efficiency.\n",
    "- **Heat Exchangers (Recuperators)**: Recuperators facilitate heat exchange between exhaust streams, optimizing thermal efficiency.\n",
    "- **Turbine**: The turbine expands CO2 to generate mechanical power, which is then converted into electrical energy.\n",
    "- **Heat Exchangers (Heater and Cooler)**: These components facilitate heat transfer to and from external sources, crucial for maintaining working fluid temperatures within operational limits."
   ]
  },
  {
   "cell_type": "markdown",
   "metadata": {},
   "source": [
    "![Representation of the cycle under examination](figs/CO2.svg)"
   ]
  },
  {
   "cell_type": "code",
   "execution_count": 1,
   "metadata": {},
   "outputs": [],
   "source": [
    "from tespy.networks import Network\n",
    "from tespy.components import (\n",
    "    Sink, Source, Turbine, SimpleHeatExchanger, Merge, Splitter,\n",
    "    HeatExchanger, CycleCloser, Compressor)\n",
    "from tespy.connections import Connection, Bus"
   ]
  },
  {
   "cell_type": "code",
   "execution_count": 2,
   "metadata": {},
   "outputs": [],
   "source": [
    "# setting up network\n",
    "jouleCycle = Network(fluids=['CO2'])\n",
    "jouleCycle.set_attr(\n",
    "    T_unit='C', p_unit='bar', h_unit='kJ / kg', m_unit='kg / s',\n",
    "    s_unit=\"kJ / kgK\")"
   ]
  },
  {
   "cell_type": "markdown",
   "metadata": {},
   "source": [
    "\n",
    "The needed components are defined for the thermal cycle.\n",
    "\n",
    "- **Source and Sink**: `water_in` represents the water source in the cycle and `water_out` represents the water sink in the cycle.\n",
    "\n",
    "- **CycleCloser**: `closer` is the component that closes the cycle, ensuring mass balance between inlet and outlet.\n",
    "\n",
    "- **Compressor**: `cp1` and `cp2` are the two compressors in the cycle (Compressor 1 and Compressor 2), both belonging to the functional group 'CMP'.\n",
    "\n",
    "- **HeatExchanger**: `rec1` and `rec2`are the two heat exchangers in the cycle (Recuperator 1 and Recuperator 2), both belonging to the functional group 'REC'.\n",
    "\n",
    "- **SimpleHeatExchanger**: `cooler` as a simple heat exchanger for cooling water and `heater` as a simple heat exchanger for heating the fluid in the cycle.\n",
    "\n",
    "- **Turbine**: `turb` is the turbine in the cycle, which converts fluid energy into mechanical energy.\n",
    "\n",
    "- **Splitter and Merge**: `sp1` is the splitter in the cycle, part of the functional group 'REC' and `m1` is the merge in the cycle, part of the functional group 'REC'.\n"
   ]
  },
  {
   "cell_type": "code",
   "execution_count": 3,
   "metadata": {},
   "outputs": [],
   "source": [
    "# components definition\n",
    "water_in = Source('Water source')\n",
    "water_out = Sink('Water sink')\n",
    "\n",
    "closer = CycleCloser('Cycle closer')\n",
    "\n",
    "cp1 = Compressor('Compressor 1', fkt_group='CMP')\n",
    "cp2 = Compressor('Compressor 2', fkt_group='CMP')\n",
    "\n",
    "rec1 = HeatExchanger('Recuperator 1', fkt_group='REC')\n",
    "rec2 = HeatExchanger('Recuperator 2', fkt_group='REC')\n",
    "\n",
    "cooler = SimpleHeatExchanger('Water cooler')\n",
    "heater = SimpleHeatExchanger('Heater')\n",
    "\n",
    "turb = Turbine('Turbine')\n",
    "\n",
    "sp1 = Splitter('Splitter 1', fkt_group='REC')\n",
    "m1 = Merge('Merge 1', fkt_group='REC')"
   ]
  },
  {
   "cell_type": "markdown",
   "metadata": {},
   "source": [
    "Each connection is defined by specifying the components and their respective ports that are being connected. The connections are then added to the cycle network.\n",
    "\n",
    "- `c1` connects the outlet of the water cooler (`cooler`) to the inlet of Compressor 1 (`cp1`).\n",
    "- `c2` connects the outlet of Compressor 1 (`cp1`) to the inlet of Recuperator 1 (`rec1`).\n",
    "- `c3` connects the outlet of Recuperator 2 (`rec2`) to the inlet of the heater (`heater`).\n",
    "- `c0` connects the outlet of the heater (`heater`) to the inlet of the cycle closer (`closer`).\n",
    "- `c4` connects the outlet of the cycle closer (`closer`) to the inlet of the turbine (`turb`).\n",
    "- `c5` connects the outlet of the turbine (`turb`) to the inlet of Recuperator 2 (`rec2`).\n",
    "- `c6` connects the outlet of Splitter 1 (`sp1`) to the inlet of the water cooler (`cooler`).\n",
    "- `c10` connects the outlet of Splitter 1 (`sp1`) to the inlet of Compressor 2 (`cp2`).\n",
    "- `c11` connects the outlet of Compressor 2 (`cp2`) to the inlet of Merge 1 (`m1`).\n",
    "- `c12` connects the outlet of Recuperator 1 (`rec1`) to the inlet of Merge 1 (`m1`).\n",
    "- `c13` connects the outlet of Merge 1 (`m1`) to the inlet of Recuperator 2 (`rec2`).\n",
    "- `c14` connects the outlet of Recuperator 2 (`rec2`) to the inlet of Recuperator 1 (`rec1`).\n",
    "- `c15` connects the outlet of Recuperator 1 (`rec1`) to the inlet of Splitter 1 (`sp1`)."
   ]
  },
  {
   "cell_type": "code",
   "execution_count": 4,
   "metadata": {},
   "outputs": [],
   "source": [
    "# connections definition\n",
    "# power cycle\n",
    "c1 = Connection(cooler, 'out1', cp1, 'in1', label='1')\n",
    "c2 = Connection(cp1, 'out1', rec1, 'in2', label='2')\n",
    "c3 = Connection(rec2, 'out2', heater, 'in1', label='3')\n",
    "\n",
    "c0 = Connection(heater, 'out1', closer, 'in1', label='0')\n",
    "c4 = Connection(closer, 'out1', turb, 'in1', label='4')\n",
    "c5 = Connection(turb, 'out1', rec2, 'in1', label='5')\n",
    "c6 = Connection(sp1, 'out1', cooler, 'in1', label='6')\n",
    "\n",
    "c10 = Connection(sp1, 'out2', cp2, 'in1', label='10')\n",
    "c11 = Connection(cp2, 'out1', m1, 'in2', label='11')\n",
    "c12 = Connection(rec1, 'out2', m1, 'in1', label='12')\n",
    "c13 = Connection(m1, 'out1', rec2, 'in2', label='13')\n",
    "\n",
    "c14 = Connection(rec2, 'out1', rec1, 'in1', label='14')\n",
    "c15 = Connection(rec1, 'out1', sp1, 'in1', label='15')\n",
    "\n",
    "# add connections to network\n",
    "jouleCycle.add_conns(c0, c1, c2, c3, c4, c5, c6, c10, c11, c12, c13, c14, c15)"
   ]
  },
  {
   "cell_type": "code",
   "execution_count": 5,
   "metadata": {},
   "outputs": [],
   "source": [
    "# power bus\n",
    "power = Bus('total output power')\n",
    "power.add_comps({'comp': turb, 'char': 0.99 * 0.99, 'base': 'component'},\n",
    "                {'comp': cp1, 'char': 0.98 * 0.97, 'base': 'bus'},\n",
    "                {'comp': cp2, 'char': 0.98 * 0.97, 'base': 'bus'})\n",
    "\n",
    "heat_input_bus = Bus('heat input')\n",
    "heat_input_bus.add_comps({'comp': heater, 'base': 'bus'})\n",
    "\n",
    "jouleCycle.add_busses(heat_input_bus, power)"
   ]
  },
  {
   "cell_type": "markdown",
   "metadata": {},
   "source": [
    "Setting the attributes for the connections and the components. These parameters include temperatures, pressures, mass flow rates, and efficiencies. It was created in such a way as to ensure stable operation over different TIT ranges by parametrically adopting the pressure losses and temperature differences at the heat exchangers. All data are referred to [Exergoeconomic analyses of different sCO2 cycle configurations](https://sco2symposium.com/papers2018/cycles/052_Paper.pdf).\n",
    "\n",
    "- `c1` is set with a temperature (`T`) of 35°C, a pressure (`p`) of 75 bar, and a fluid composition of 100% CO2.\n",
    "- `c4` is set with a temperature (`T`) of 384°C, a pressure (`p`) of 258 bar, and a mass flow rate (`m`) of 54 kg/s.\n",
    "- `c5` is set with a pressure (`p`) of 78 bar.\n",
    "- `rec1` (Recuperator 1) is set with a pressure ratio (`pr1` and `pr2`) of 0.977 and 0.998 respectively, a lower terminal temperature difference (`ttd_l`) of 10°C, and an upper terminal temperature difference (`ttd_u`) of 25°C.\n",
    "- `rec2` (Recuperator 2) is set with a pressure ratio (`pr1` and `pr2`) oof 0.987 and 0.997 respectively and a lower terminal temperature difference (`ttd_l`) of 10°C.\n",
    "- `heater` is set with a pressure ratio (`pr`) of 0.973.\n",
    "\n",
    "And for the component parameters:\n",
    "\n",
    "- `turb` (Turbine) is set with an isentropic efficiency (`eta_s`) of 0.90.\n",
    "- `cp1` (Compressor 1) is set with an isentropic efficiency (`eta_s`) of 0.85.\n",
    "- `cp2` (Compressor 2) is set with an isentropic efficiency (`eta_s`) of 0.85.\n"
   ]
  },
  {
   "cell_type": "code",
   "execution_count": 6,
   "metadata": {},
   "outputs": [],
   "source": [
    "# connection parameters\n",
    "c1.set_attr(T=35, p=75, fluid={'CO2': 1})\n",
    "c4.set_attr(T=384, p=258, m=54)\n",
    "c5.set_attr(p=78)\n",
    "rec1.set_attr(pr1=0.977, pr2=0.998, ttd_l=10, ttd_u=25)\n",
    "rec2.set_attr(pr1=0.987, pr2=0.997, ttd_l=10)\n",
    "heater.set_attr(pr=0.973)\n",
    "\n",
    "# component parameters\n",
    "turb.set_attr(eta_s=0.9)\n",
    "cp1.set_attr(eta_s=0.85)\n",
    "cp2.set_attr(eta_s=0.85)"
   ]
  },
  {
   "cell_type": "markdown",
   "metadata": {},
   "source": [
    "## Results"
   ]
  },
  {
   "cell_type": "code",
   "execution_count": 7,
   "metadata": {},
   "outputs": [
    {
     "name": "stdout",
     "output_type": "stream",
     "text": [
      "\n",
      "##### RESULTS (CycleCloser) #####\n",
      "+--------------+------------------+-------------------+\n",
      "|              |   mass_deviation |   fluid_deviation |\n",
      "|--------------+------------------+-------------------|\n",
      "| Cycle closer |         0.00e+00 |          0.00e+00 |\n",
      "+--------------+------------------+-------------------+\n",
      "##### RESULTS (HeatExchanger) #####\n",
      "+---------------+-----------+----------+----------+----------+----------+-----------+----------+----------+----------+----------+----------+----------+------------+-----------+-----------+\n",
      "|               |         Q |       kA |   td_log |    ttd_u |    ttd_l |   ttd_min |      pr1 |      pr2 |      dp1 |      dp2 |    zeta1 |    zeta2 |   eff_cold |   eff_hot |   eff_max |\n",
      "|---------------+-----------+----------+----------+----------+----------+-----------+----------+----------+----------+----------+----------+----------+------------+-----------+-----------|\n",
      "| Recuperator 2 | -3.69e+06 | 2.30e+05 | 1.60e+01 | 2.41e+01 | \u001b[94m1.00e+01\u001b[0m |  1.00e+01 | \u001b[94m9.87e-01\u001b[0m | \u001b[94m9.97e-01\u001b[0m | 1.01e+00 | 7.98e-01 | 3.70e+03 | 1.12e+04 |   6.75e-01 |  8.58e-01 |  8.58e-01 |\n",
      "| Recuperator 1 | -3.85e+06 | 2.35e+05 | 1.64e+01 | \u001b[94m2.50e+01\u001b[0m | \u001b[94m1.00e+01\u001b[0m |  1.00e+01 | \u001b[94m9.77e-01\u001b[0m | \u001b[94m9.98e-01\u001b[0m | 1.77e+00 | 5.33e-01 | 7.58e+03 | 1.42e+04 |   6.86e-01 |  8.56e-01 |  8.56e-01 |\n",
      "+---------------+-----------+----------+----------+----------+----------+-----------+----------+----------+----------+----------+----------+----------+------------+-----------+-----------+\n",
      "##### RESULTS (Turbine) #####\n",
      "+---------+-----------+----------+----------+\n",
      "|         |         P |    eta_s |       pr |\n",
      "|---------+-----------+----------+----------|\n",
      "| Turbine | -6.29e+06 | \u001b[94m9.00e-01\u001b[0m | 3.02e-01 |\n",
      "+---------+-----------+----------+----------+\n",
      "##### RESULTS (Compressor) #####\n",
      "+--------------+----------+----------+----------+--------+\n",
      "|              |        P |    eta_s |       pr |   igva |\n",
      "|--------------+----------+----------+----------+--------|\n",
      "| Compressor 2 | 1.02e+06 | \u001b[94m8.50e-01\u001b[0m | 3.54e+00 |    nan |\n",
      "| Compressor 1 | 2.47e+06 | \u001b[94m8.50e-01\u001b[0m | 3.55e+00 |    nan |\n",
      "+--------------+----------+----------+----------+--------+\n",
      "##### RESULTS (SimpleHeatExchanger) #####\n",
      "+--------------+-----------+----------+----------+-----+-----+------+---------+------+--------+\n",
      "|              |         Q |       pr |     zeta |   D |   L |   ks |   ks_HW |   kA |   Tamb |\n",
      "|--------------+-----------+----------+----------+-----+-----+------+---------+------+--------|\n",
      "| Heater       |  1.05e+07 | \u001b[94m9.73e-01\u001b[0m | 7.44e+04 | nan | nan |  nan |     nan |  nan |    nan |\n",
      "| Water cooler | -7.70e+06 | 9.97e-01 | 2.04e+03 | nan | nan |  nan |     nan |  nan |    nan |\n",
      "+--------------+-----------+----------+----------+-----+-----+------+---------+------+--------+\n",
      "##### RESULTS (Connection) #####\n",
      "+----+-----------+-----------+-----------+-----------+\n",
      "|    |         m |         p |         h |         T |\n",
      "|----+-----------+-----------+-----------+-----------|\n",
      "|  0 | 5.400e+01 | 2.580e+02 | 8.236e+02 | 3.840e+02 |\n",
      "|  1 | 4.540e+01 | \u001b[94m7.500e+01\u001b[0m | 3.977e+02 | \u001b[94m3.500e+01\u001b[0m |\n",
      "|  2 | 4.540e+01 | 2.665e+02 | 4.521e+02 | 1.255e+02 |\n",
      "|  3 | 5.400e+01 | 2.652e+02 | 6.290e+02 | 2.350e+02 |\n",
      "|  4 | \u001b[94m5.400e+01\u001b[0m | \u001b[94m2.580e+02\u001b[0m | 8.236e+02 | \u001b[94m3.840e+02\u001b[0m |\n",
      "|  5 | 5.400e+01 | \u001b[94m7.800e+01\u001b[0m | 7.070e+02 | 2.591e+02 |\n",
      "|  6 | 4.540e+01 | 7.522e+01 | 5.673e+02 | 1.355e+02 |\n",
      "| 10 | 8.597e+00 | 7.522e+01 | 5.673e+02 | 1.355e+02 |\n",
      "| 11 | 8.597e+00 | 2.660e+02 | 6.854e+02 | 2.769e+02 |\n",
      "| 12 | 4.540e+01 | 2.660e+02 | 5.370e+02 | 1.731e+02 |\n",
      "| 13 | 5.400e+01 | 2.660e+02 | 5.606e+02 | 1.881e+02 |\n",
      "| 14 | 5.400e+01 | 7.699e+01 | 6.387e+02 | 1.981e+02 |\n",
      "| 15 | 5.400e+01 | 7.522e+01 | 5.673e+02 | 1.355e+02 |\n",
      "+----+-----------+-----------+-----------+-----------+\n",
      "##### RESULTS (Bus: heat input) #####\n",
      "+--------+-------------------+-------------+--------------+\n",
      "|        |   component value |   bus value |   efficiency |\n",
      "|--------+-------------------+-------------+--------------|\n",
      "| Heater |         1.051e+07 |   1.051e+07 |    1.000e+00 |\n",
      "| total  |         1.051e+07 |   1.051e+07 |  nan         |\n",
      "+--------+-------------------+-------------+--------------+\n",
      "##### RESULTS (Bus: total output power) #####\n",
      "+--------------+-------------------+-------------+--------------+\n",
      "|              |   component value |   bus value |   efficiency |\n",
      "|--------------+-------------------+-------------+--------------|\n",
      "| Turbine      |        -6.295e+06 |  -6.170e+06 |    9.801e-01 |\n",
      "| Compressor 1 |         2.473e+06 |   2.602e+06 |    9.506e-01 |\n",
      "| Compressor 2 |         1.015e+06 |   1.068e+06 |    9.506e-01 |\n",
      "| total        |        -2.807e+06 |  -2.500e+06 |  nan         |\n",
      "+--------------+-------------------+-------------+--------------+\n"
     ]
    }
   ],
   "source": [
    "# solve final state\n",
    "jouleCycle.set_attr(iterinfo=False)\n",
    "jouleCycle.solve(mode='design')\n",
    "\n",
    "# print results to prompt and generate model documentation\n",
    "jouleCycle.print_results()"
   ]
  },
  {
   "cell_type": "code",
   "execution_count": null,
   "metadata": {},
   "outputs": [],
   "source": []
  }
 ],
 "metadata": {
  "kernelspec": {
   "display_name": "csp",
   "language": "python",
   "name": "python3"
  },
  "language_info": {
   "codemirror_mode": {
    "name": "ipython",
    "version": 3
   },
   "file_extension": ".py",
   "mimetype": "text/x-python",
   "name": "python",
   "nbconvert_exporter": "python",
   "pygments_lexer": "ipython3",
   "version": "3.11.11"
  }
 },
 "nbformat": 4,
 "nbformat_minor": 2
}
