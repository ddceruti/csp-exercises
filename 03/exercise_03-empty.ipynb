{
 "cells": [
  {
   "cell_type": "markdown",
   "metadata": {},
   "source": [
    "# Modeling Thermodynamic Cycles in Python\n",
    "\n",
    "This exercise simulates a Rankine power plant cycle using the TESPy package in Python. TESPy stands for \"Thermal Engineering Systems in Python\" and provides a simulation toolkit for thermal engineering plants such as power\n",
    "plants, district heating systems or heat pumps. It is an external extension\n",
    "module within the Open Energy Modelling Framework `oemof <https://oemof.org/>`_\n",
    "and can be used as a standalone package.\n",
    "\n",
    "Examples and documentation in [TESPy](https://github.com/oemof/tespy). Find more information\n",
    "about the modelling feature in the respective [online documentation](https://tespy.readthedocs.io/en/main/).\n",
    "\n",
    "BibTeX citation:\n",
    "\n",
    "    @article{Witte2020,\n",
    "        doi = {10.21105/joss.02178},\n",
    "        year = {2020},\n",
    "        publisher = {The Open Journal},\n",
    "        volume = {5},\n",
    "        number = {49},\n",
    "        pages = {2178},\n",
    "        author = {Francesco Witte and Ilja Tuschy},\n",
    "        title = {{TESPy}: {T}hermal {E}ngineering {S}ystems in {P}ython},\n",
    "        journal = {Journal of Open Source Software}\n",
    "    }\n",
    "\n",
    "## Authors\n",
    "\n",
    "The authors of this exercise are:\n",
    "\n",
    "- Amedeo Ceruti\n",
    "- Urbano Tataranni\n",
    "- Hassan Hussein\n",
    "- Jihad Jundi"
   ]
  },
  {
   "cell_type": "markdown",
   "metadata": {},
   "source": [
    "## This exercise\n",
    "\n",
    "This exercise details the steps and provides the necessary explanations for simulating a Rankine power plant.\n",
    "\n",
    "### Basic Rankine Cycle\n",
    "\n",
    "The simulation begins with a basic cycle, and then upgrades it by incorporating a reheat stage. This includes creating a fluid network, configuring the main components such as the cycle closer, pump, condenser, turbine, and heat exchanger, establishing and configuring connections between the components, and setting operational conditions and efficiency parameters. The next step is to solve the thermodynamic model of the basic cycle and analyze the results obtained from the simulation.\n",
    "\n",
    "### Rankine Cycle with Reheat \n",
    "\n",
    "The simulation is then enhanced by implementing a reheat stage in the Rankine cycle. This step involves evaluating the impact of adding reheat on the overall efficiency and performance of the plant."
   ]
  },
  {
   "cell_type": "markdown",
   "metadata": {},
   "source": [
    "## Basic Cycle\n",
    "\n",
    "![Representation of the cycle under examination](figs/Rankine_simple.png)"
   ]
  },
  {
   "cell_type": "code",
   "execution_count": null,
   "metadata": {},
   "outputs": [],
   "source": [
    "%pip install tespy\n",
    "from tespy.networks import Network\n",
    "import pandas as pd"
   ]
  },
  {
   "cell_type": "markdown",
   "metadata": {},
   "source": [
    "The Network of our plant is created. All the required components are called from the library and, since a simple Rankine cycles is studied, only 6 components are used. These components are:\n",
    "\n",
    "- one feed water Pump,\n",
    "- one Condenser for heat removal,\n",
    "- one Turbine for extracting work,\n",
    "- one SimpleHeatExchanger for simulating heat flow from the solar collector system to the working fluid,\n",
    "- one Source,\n",
    "- one Sink,\n",
    "- one CyclerCloser.\n",
    "\n",
    "The component *CyclerCloser* is used to set the condition of closed system process, because the system of equations describing the system will be overdetermined if a cycle is closed without this component. More information about other component can be consulted in the [online documentation](https://tespy.readthedocs.io/en/main/)."
   ]
  },
  {
   "cell_type": "code",
   "execution_count": 136,
   "metadata": {},
   "outputs": [],
   "source": [
    "from tespy.components import (\n",
    "    CycleCloser, Pump, Condenser, Turbine, SimpleHeatExchanger, Source, Sink\n",
    ")"
   ]
  },
  {
   "cell_type": "code",
   "execution_count": 137,
   "metadata": {},
   "outputs": [],
   "source": [
    "# create a network object with water as fluid\n",
    "my_plant = Network()\n",
    "my_plant.set_attr(T_unit='C', p_unit='bar', h_unit='kJ / kg')\n",
    "\n",
    "cc = CycleCloser('cycle closer')\n",
    "sg = SimpleHeatExchanger('steam generator')\n",
    "mc = Condenser('main condenser')\n",
    "tu = Turbine('steam turbine')\n",
    "fp = Pump('feed pump')\n",
    "\n",
    "cwso = Source('cooling water source')\n",
    "cwsi = Sink('cooling water sink')"
   ]
  },
  {
   "cell_type": "markdown",
   "metadata": {},
   "source": [
    "Now we establish connections between the various components of the Rankine cycle using TESpy's logic. The label is used as shown in the figure above."
   ]
  },
  {
   "cell_type": "code",
   "execution_count": 138,
   "metadata": {},
   "outputs": [],
   "source": [
    "from tespy.connections import Connection"
   ]
  },
  {
   "cell_type": "code",
   "execution_count": 139,
   "metadata": {},
   "outputs": [],
   "source": [
    "c1 = Connection(cc, 'out1', tu, 'in1', label='1')\n",
    "c2 = Connection(tu, 'out1', mc, 'in1', label='2')\n",
    "c3 = Connection(mc, 'out1', fp, 'in1', label='3')\n",
    "c4 = Connection(fp, 'out1', sg, 'in1', label='4')\n",
    "c0 = Connection(sg, 'out1', cc, 'in1', label='0')\n",
    "\n",
    "my_plant.add_conns(c1, c2, c3, c4, c0)"
   ]
  },
  {
   "cell_type": "markdown",
   "metadata": {},
   "source": [
    "Additional connections are set up for the cooling water loop through the condenser.\n",
    "\n",
    "- `c11` connects the outlet of the cooling water source (`cwso`) to the secondary inlet of the main condenser (`mc`).\n",
    "- `c12` connects the secondary outlet of the main condenser (`mc`) to the inlet of the cooling water sink (`cwsi`).\n",
    "\n",
    "These connections (`c11` and `c12`) are again added to the network as before."
   ]
  },
  {
   "cell_type": "code",
   "execution_count": 140,
   "metadata": {},
   "outputs": [],
   "source": [
    "c11 = Connection(cwso, 'out1', mc, 'in2', label='11')\n",
    "c12 = Connection(mc, 'out2', cwsi, 'in1', label='12')\n",
    "\n",
    "my_plant.add_conns(c11, c12)"
   ]
  },
  {
   "cell_type": "markdown",
   "metadata": {},
   "source": [
    "## The Andasol Power Plant\n",
    "\n",
    "The Andasol I and II power plants are parabolic through concentrating\n",
    "solar thermal systems located in southern Spain and built in 2007:\n",
    "\n",
    "- [Andasol 2 entry in the SolarPACES database](https://solarpaces.nrel.gov/project/andasol-2)\n",
    "- [General information on the power plant](http://large.stanford.edu/publications/power/references/docs/Andasol1-3engl.pdf)\n",
    "\n",
    "The original power plant specifications and results are obtained from the following\n",
    "publication:\n",
    "- [Andasol-2 Parabolic Trough Steam Ranking Cycle](https://doi.org/10.1016/j.jprocont.2016.01.002)"
   ]
  },
  {
   "cell_type": "markdown",
   "metadata": {},
   "source": [
    "### 1.1 Read the information about Andasol and fill out the table below?\n",
    "\n",
    "Use the cited paper; assume entry conditions are equal to the HP inlet and\n",
    "the output conditions are equal to the LP outlet.\n",
    "\n",
    "| Andasol II               | HP turbine   |\n",
    "|--------------------------|--------------|\n",
    "| Conditions at the inlet  | P =  bar  |\n",
    "|                          | T =  °C   |\n",
    "|                          | ṁ=  kg/s  |\n",
    "| Conditions at the outlet | P =  bar |\n",
    "|                          | T =  °C    |"
   ]
  },
  {
   "cell_type": "code",
   "execution_count": 141,
   "metadata": {},
   "outputs": [],
   "source": [
    "T_tu_in = 10       # temperature turbine inlet\n",
    "p_tu_in = 10       # pressure turbine inlet\n",
    "mf = 10             # mass flow\n",
    "p_tu_out = 0     # pressure turbine outlet\n",
    "\n",
    "T_coo_in = 10       # temperature cooling water in\n",
    "T_coo_out = 10      # temperature cooling water out"
   ]
  },
  {
   "cell_type": "markdown",
   "metadata": {},
   "source": [
    "## Setting Attributes in TESpy\n",
    "\n",
    "Now we transfer the parameters stored in the variables above to the cycle in TESpy.\n",
    "\n",
    "### Component Attributes\n",
    "\n",
    "- `mc.set_attr(pr1=1, pr2=1)`: Sets the pressure ratio (`pr1` and `pr2`) for the main condenser (`mc`) to 1, meaning there is no pressure drop across the condenser.\n",
    "- `sg.set_attr(pr=1)`: Sets the pressure ratio (`pr`) for the steam generator (`sg`) to 1, indicating no pressure drop.\n",
    "- `tu.set_attr(eta_s=0.80)`: Sets the isentropic efficiency (`eta_s`) of the turbine (`tu`) to 80%.\n",
    "- `fp.set_attr(eta_s=0.90)`: Sets the isentropic efficiency (`eta_s`) of the feed pump (`fp`) to 90%.\n"
   ]
  },
  {
   "cell_type": "code",
   "execution_count": 142,
   "metadata": {},
   "outputs": [],
   "source": [
    "mc.set_attr(pr1=1, pr2=1)  # assume no pressure loss in condenser\n",
    "sg.set_attr(pr=1)\n",
    "tu.set_attr(eta_s=0.80)       # Turbine isentropic efficiency\n",
    "fp.set_attr(eta_s=0.90)         # Feed pump isentropic efficiency"
   ]
  },
  {
   "cell_type": "markdown",
   "metadata": {},
   "source": [
    "### Connection Attributes\n",
    "\n",
    "- `c11.set_attr(T=T_coo_in, p=1.2, fluid={'water': 1})`: Sets the temperature (`T`), pressure (`p`), and fluid composition (`fluid`) for connection `c11`. The temperature is set to the cooling water inlet temperature (`T_coo_in`), pressure to 1.2 bar, and the fluid to water.\n",
    "- `c12.set_attr(T=T_coo_out)`: Sets the temperature (`T`) for connection `c12` to the cooling water outlet temperature (`T_coo_out`).\n",
    "- `c1.set_attr(T=T_tu_in, p=p_tu_in, m=mf, fluid={'water': 1})`: Sets the temperature (`T`), pressure (`p`), mass flow rate (`m`), and fluid composition (`fluid`) for connection `c1`. The temperature is set to the turbine inlet temperature (`T_tu_in`), pressure to the turbine inlet pressure (`p_tu_in`), mass flow rate to `mf`, and the fluid to water.\n",
    "- `c2.set_attr(p=p_tu_out)`: Sets the pressure (`p`) for connection `c2` to the turbine outlet pressure (`p_tu_out`)."
   ]
  },
  {
   "cell_type": "code",
   "execution_count": 143,
   "metadata": {},
   "outputs": [],
   "source": [
    "c11.set_attr(T=T_coo_in, p=1.2, fluid={'water': 1})\n",
    "c12.set_attr(T=T_coo_out)\n",
    "c1.set_attr(T=T_tu_in, p=p_tu_in, m=mf, fluid={'water': 1})\n",
    "c2.set_attr(p=p_tu_out)"
   ]
  },
  {
   "cell_type": "markdown",
   "metadata": {},
   "source": [
    "### Power bus configuration\n",
    "\n",
    "Finally, a bus to track the electrical power output of the system is defined by adding components to this bus to account for their contributions to the electrical power generation and consumption."
   ]
  },
  {
   "cell_type": "code",
   "execution_count": 144,
   "metadata": {},
   "outputs": [],
   "source": [
    "from tespy.connections import Bus\n",
    "\n",
    "powergen = Bus(\"electrical power output\")\n",
    "\n",
    "powergen.add_comps(\n",
    "    {\"comp\": tu, \"char\": 0.98 * 0.95, \"base\": \"component\"},     # eff_mecc = 0.98, eff_gen = 0.95\n",
    "    {\"comp\": fp, \"char\": 0.95, \"base\": \"bus\"},                          # eff_el = 0.95\n",
    ")\n",
    "\n",
    "my_plant.add_busses(powergen)"
   ]
  },
  {
   "cell_type": "markdown",
   "metadata": {},
   "source": [
    "## Solve the Cycle"
   ]
  },
  {
   "cell_type": "code",
   "execution_count": null,
   "metadata": {},
   "outputs": [],
   "source": [
    "my_plant.set_attr(iterinfo=True)\n",
    "my_plant.solve(mode='design')\n",
    "# my_plant.print_results()"
   ]
  },
  {
   "cell_type": "markdown",
   "metadata": {},
   "source": [
    "### Results output\n",
    "\n",
    "Solving command launched by printing simulation results without information about iteration steps by using *.print_results()*. For better visualisation, the printing procedure is done using dataframe manipulation."
   ]
  },
  {
   "cell_type": "code",
   "execution_count": null,
   "metadata": {},
   "outputs": [],
   "source": [
    "df_turbine = pd.DataFrame([{\n",
    "    'name': 'steam turbine', \n",
    "    'P': tu.P.val, \n",
    "    'eta_s': tu.eta_s.val, \n",
    "    'pr': tu.pr.val\n",
    "}])\n",
    "\n",
    "df_condenser = pd.DataFrame([{\n",
    "    'name': 'main condenser', \n",
    "    'Q': mc.Q.val, \n",
    "    'kA': mc.kA.val, \n",
    "    'ttd_u': mc.ttd_u.val,\n",
    "    'ttd_l': mc.ttd_l.val, \n",
    "    'pr1': mc.pr1.val, \n",
    "    'pr2': mc.pr2.val, \n",
    "    'zeta1': mc.zeta1.val, \n",
    "    'zeta2': mc.zeta2.val\n",
    "}])\n",
    "\n",
    "df_pump = pd.DataFrame([{\n",
    "    'name': 'feed pump', \n",
    "    'P': fp.P.val, \n",
    "    'eta_s': fp.eta_s.val, \n",
    "    'pr': fp.pr.val\n",
    "}])\n",
    "\n",
    "df_generator = pd.DataFrame([{\n",
    "    'name': 'steam generator', \n",
    "    'Q': sg.Q.val, \n",
    "    'pr': sg.pr.val, \n",
    "    'zeta': sg.zeta.val\n",
    "}])\n",
    "\n",
    "df_connections = pd.DataFrame([\n",
    "    {'label': '1', 'm': c1.m.val, 'p': c1.p.val, 'h': c1.h.val, 'T': c1.T.val},\n",
    "    {'label': '2', 'm': c2.m.val, 'p': c2.p.val, 'h': c2.h.val, 'T': c2.T.val},\n",
    "    {'label': '3', 'm': c3.m.val, 'p': c3.p.val, 'h': c3.h.val, 'T': c3.T.val},\n",
    "    {'label': '4', 'm': c4.m.val, 'p': c4.p.val, 'h': c4.h.val, 'T': c4.T.val},\n",
    "    {'label': '0', 'm': c0.m.val, 'p': c0.p.val, 'h': c0.h.val, 'T': c0.T.val},\n",
    "    {'label': '11', 'm': c11.m.val, 'p': c11.p.val, 'h': c11.h.val, 'T': c11.T.val},\n",
    "    {'label': '12', 'm': c12.m.val, 'p': c12.p.val, 'h': c12.h.val, 'T': c12.T.val}\n",
    "])\n",
    "\n",
    "df_buses = pd.DataFrame([\n",
    "    {'name': 'steam turbine', 'component value': tu.P.val, 'bus value': -4.728e+07, 'efficiency': 9.310e-01},\n",
    "    {'name': 'feed pump', 'component value': fp.P.val, 'bus value': 6.585e+05, 'efficiency': 9.500e-01},\n",
    "    {'name': 'total', 'component value': -5.016e+07, 'bus value': -4.662e+07, 'efficiency': None}\n",
    "])\n",
    "\n",
    "# Display DataFrames\n",
    "print(\"Turbine DataFrame\")\n",
    "print(df_turbine)\n",
    "\n",
    "print(\"\\nCondenser DataFrame\")\n",
    "print(df_condenser)\n",
    "\n",
    "print(\"\\nPump DataFrame\")\n",
    "print(df_pump)\n",
    "\n",
    "print(\"\\nGenerator DataFrame\")\n",
    "print(df_generator)\n",
    "\n",
    "print(\"\\nConnections DataFrame\")\n",
    "print(df_connections)\n",
    "\n",
    "print(\"\\nBuses DataFrame\")\n",
    "print(df_buses)"
   ]
  },
  {
   "cell_type": "markdown",
   "metadata": {},
   "source": [
    "## 1.2 Calculate the Efficiency of the Cycle"
   ]
  },
  {
   "cell_type": "code",
   "execution_count": null,
   "metadata": {},
   "outputs": [],
   "source": [
    "# Calculate net work output (electrical power generated by the turbine)\n",
    "W_net = abs(powergen.P.val)  # Taking absolute value to ensure positive net work\n",
    "\n",
    "# Calculate heat input to the cycle (heat supplied to the steam generator)\n",
    "Q_in = sg.Q.val\n",
    "\n",
    "# Calculate thermal efficiency of the cycle\n",
    "thermal_efficiency = ...\n",
    "\n",
    "print(f\"Thermal efficiency of the simple cycle: {round(thermal_efficiency * 100, 2)} %\")"
   ]
  },
  {
   "cell_type": "markdown",
   "metadata": {},
   "source": [
    "## 1.3 Compare the efficiency of the simple cycle and brainstorm ways to improve it\n",
    "\n",
    "- "
   ]
  },
  {
   "cell_type": "markdown",
   "metadata": {},
   "source": [
    "## 1.4 Assume the system is changeds to operate with molten salts\n",
    "\n",
    "What efficiency would you obtain now?"
   ]
  },
  {
   "cell_type": "code",
   "execution_count": null,
   "metadata": {},
   "outputs": [],
   "source": [
    "T_tu_in = 10       # temperature turbine inlet\n",
    "\n",
    "c1.set_attr(T=T_tu_in)\n",
    "\n",
    "my_plant.solve(mode='design')"
   ]
  },
  {
   "cell_type": "code",
   "execution_count": null,
   "metadata": {},
   "outputs": [],
   "source": [
    "# Calculate net work output (electrical power generated by the turbine)\n",
    "W_net = ...\n",
    "\n",
    "# Calculate heat input to the cycle (heat supplied to the steam generator)\n",
    "Q_in = ...\n",
    "\n",
    "# Calculate thermal efficiency of the cycle\n",
    "thermal_efficiency = ...\n",
    "\n",
    "print(f\"Thermal efficiency of the simple cycle: {round(thermal_efficiency * 100, 2)} %\")"
   ]
  },
  {
   "cell_type": "markdown",
   "metadata": {},
   "source": [
    "## 1.5 Plot the T-s diagram of the cycle in the diagram below by hand\n",
    "\n",
    "What issue is arising with the simple cycle? Two phases in the turbine exit stream."
   ]
  },
  {
   "cell_type": "code",
   "execution_count": 150,
   "metadata": {},
   "outputs": [],
   "source": [
    "%matplotlib inline\n",
    "\n",
    "# Your plotting code here\n",
    "import matplotlib.pyplot as plt"
   ]
  },
  {
   "cell_type": "code",
   "execution_count": 151,
   "metadata": {},
   "outputs": [],
   "source": [
    "# Load the Excel file into a Pandas DataFrame\n",
    "file_path = 'Data/Steamtables.xlsx'\n",
    "df = pd.read_excel(file_path, sheet_name='Tabelle1')\n",
    "\n",
    "# Extracting the data\n",
    "temperature = df['T (°C)']\n",
    "sv = df['SV [kJ/(kg K)]']\n",
    "sl = df['SL [kJ/(kg K)]']"
   ]
  },
  {
   "cell_type": "code",
   "execution_count": null,
   "metadata": {},
   "outputs": [],
   "source": [
    "fig, ax = plt.subplots(figsize=(10, 6))\n",
    "# Plotting SL and SV against Temperature from steam tables\n",
    "ax.plot(sv, temperature, label='SV [kJ/(kg K)]', color=\"#0065bd\")\n",
    "ax.plot(sl, temperature, label='SL [kJ/(kg K)]', color=\"#e37222\")\n",
    "\n",
    "# Setting axis limits\n",
    "ax.set_xlim(0, 10)\n",
    "ax.set_ylim(0, 500)\n",
    "\n",
    "# Labels and title\n",
    "ax.set_xlabel('Specific Entropy [kJ/(kg K)]')\n",
    "ax.set_ylabel('Temperature (°C)')\n",
    "plt.legend()\n",
    "\n",
    "# Grid and layout\n",
    "ax.grid(True, color=\"#D3D3D3\")\n",
    "plt.tight_layout()\n",
    "\n",
    "fig.show()\n"
   ]
  },
  {
   "cell_type": "markdown",
   "metadata": {},
   "source": [
    "## 2. Rankine Cycle with Reheat\n",
    "\n",
    "This following section presents an enhanced version of the Rankine cycle simulation, incorporating a reheat stage to improve efficiency and performance.\n",
    "\n",
    "![Representation of the cycle under examination](figs/Rankine_complete.png)"
   ]
  },
  {
   "cell_type": "code",
   "execution_count": 154,
   "metadata": {},
   "outputs": [],
   "source": [
    "rankine = Network()\n",
    "rankine.set_attr(T_unit='C', p_unit='bar', h_unit='kJ / kg')"
   ]
  },
  {
   "cell_type": "markdown",
   "metadata": {},
   "source": [
    "- **`sgre = SimpleHeatExchanger('steam generator for reheating')`:** This creates a new instance of a SimpleHeatExchanger component named `sgre`, representing a steam generator dedicated to reheating. Its purpose is to reheat the steam generated in the main steam generator before it enters the low-pressure turbine.\n",
    "\n",
    "- **`tuhp = Turbine('steam turbine HP')` and `tulp = Turbine('steam turbine LP')`:** These lines create instances of Turbine components named `tuhp` and `tulp`, representing the high-pressure and low-pressure turbines, respectively. These turbines are responsible for converting the thermal energy of steam into mechanical work. The designation of HP and LP indicates their positions in the cycle, with the HP turbine operating on high-pressure steam and the LP turbine operating on low-pressure steam."
   ]
  },
  {
   "cell_type": "code",
   "execution_count": 155,
   "metadata": {},
   "outputs": [],
   "source": [
    "sgre = SimpleHeatExchanger('steam generator for reheating')\n",
    "tuhp = Turbine('steam turbine HP')\n",
    "tulp = Turbine('steam turbine LP')\n",
    "\n",
    "c1 = Connection(cc, 'out1', tuhp, 'in1', label='1')\n",
    "c2 = Connection(tuhp, 'out1', sgre, 'in1', label='2')\n",
    "c3 = Connection(sgre, 'out1', tulp, 'in1', label='3')\n",
    "c4 = Connection(tulp, 'out1', mc, 'in1', label='4')\n",
    "c5 = Connection(mc, 'out1', fp, 'in1', label='5')\n",
    "c6 = Connection(fp, 'out1', sg, 'in1', label='6')\n",
    "c0 = Connection(sg, 'out1', cc, 'in1', label='0')\n",
    "\n",
    "c11 = Connection(cwso, 'out1', mc, 'in2', label='11')\n",
    "c12 = Connection(mc, 'out2', cwsi, 'in1', label='12')\n",
    "\n",
    "rankine.add_conns(c1, c2, c3, c4, c5, c6, c0, c11, c12)"
   ]
  },
  {
   "cell_type": "code",
   "execution_count": 156,
   "metadata": {},
   "outputs": [],
   "source": [
    "mc.set_attr(pr1=1, pr2=1)       # Pressure losses in the condenser\n",
    "sg.set_attr(pr=0.9)             # Pressure losses in the heating process\n",
    "sgre.set_attr(pr=0.946)         # Pressure losses in the reheating process\n",
    "tuhp.set_attr(eta_s=0.80)       # HP Turbine isentropic efficiency\n",
    "tulp.set_attr(eta_s=0.80)       # LP Turbine isentropic efficiency\n",
    "fp.set_attr(eta_s=0.90)         # Feed pump isentropic efficiency"
   ]
  },
  {
   "cell_type": "markdown",
   "metadata": {},
   "source": [
    "### 2.1 Define the new boundary conditions of cycle.\n",
    "\n",
    "Add them to the cycle by orienting yourself with the basic cycle.\n",
    "\n",
    "| Andasol II               | HP turbine   | LP turbine     |\n",
    "|--------------------------|--------------|----------------|\n",
    "| Conditions at the inlet  | P =  bar  | P =  bar   |\n",
    "|                          | T =  °C   | T =  °C |\n",
    "|                          | ṁ =  kg/s  | ṁ =  kg/s    |\n",
    "| Conditions at the outlet | P =  bar | P =  bar   |\n",
    "|                          | T =  °C   | T =  °C      |"
   ]
  },
  {
   "cell_type": "code",
   "execution_count": 157,
   "metadata": {},
   "outputs": [],
   "source": [
    "c11.set_attr(T=..., p=1.2, fluid={'water': 1})\n",
    "c12.set_attr(T=...)\n",
    "c1.set_attr(T=..., m=..., p=...., fluid={'water': 1})\n",
    "c3.set_attr(T=..., p=...)\n",
    "c4.set_attr(p=...)"
   ]
  },
  {
   "cell_type": "code",
   "execution_count": 158,
   "metadata": {},
   "outputs": [],
   "source": [
    "powergen = Bus(\"electrical power output\")\n",
    "\n",
    "heat_input = Bus('heat input')\n",
    "heat_input.add_comps({'comp': sg, 'base': 'bus'})\n",
    "heat_input.add_comps({'comp': sgre, 'base': 'bus'})\n",
    "\n",
    "powergen.add_comps(\n",
    "    {\"comp\": tuhp, \"char\": 0.98 * 0.95, \"base\": \"component\"},     # eff_mecc = 0.98, eff_gen = 0.95\n",
    "    {\"comp\": tulp, \"char\": 0.98 * 0.95, \"base\": \"component\"},\n",
    "    {\"comp\": fp, \"char\": 0.95, \"base\": \"bus\"},                          # eff_el = 0.95\n",
    ")\n",
    "\n",
    "rankine.add_busses(heat_input, powergen)"
   ]
  },
  {
   "cell_type": "code",
   "execution_count": 159,
   "metadata": {},
   "outputs": [],
   "source": [
    "rankine.set_attr(iterinfo=True)\n",
    "rankine.solve(mode='design')\n",
    "# rankine.print_results()"
   ]
  },
  {
   "cell_type": "code",
   "execution_count": null,
   "metadata": {},
   "outputs": [],
   "source": [
    "# Turbine Results\n",
    "df_turbine = pd.DataFrame([\n",
    "    {'name': 'steam turbine LP', 'P': tulp.P.val, 'eta_s': tulp.eta_s.val, 'pr': tulp.pr.val},\n",
    "    {'name': 'steam turbine HP', 'P': tuhp.P.val, 'eta_s': tuhp.eta_s.val, 'pr': tuhp.pr.val}\n",
    "])\n",
    "\n",
    "# Simple Heat Exchanger Results\n",
    "df_heat_exchanger = pd.DataFrame([\n",
    "    {'name': 'steam generator', 'Q': sg.Q.val, 'pr': sg.pr.val, 'zeta': sg.zeta.val},\n",
    "    {'name': 'steam generator for reheating', 'Q': sgre.Q.val, 'pr': sgre.pr.val, 'zeta': sgre.zeta.val}\n",
    "])\n",
    "\n",
    "# Condenser Results\n",
    "df_condenser = pd.DataFrame([\n",
    "    {'name': 'main condenser', 'Q': mc.Q.val, 'kA': mc.kA.val, 'ttd_u': mc.ttd_u.val, \n",
    "     'ttd_l': mc.ttd_l.val, 'pr1': mc.pr1.val, 'pr2': mc.pr2.val, 'zeta1': mc.zeta1.val, 'zeta2': mc.zeta2.val}\n",
    "])\n",
    "\n",
    "\n",
    "# Pump Results\n",
    "df_pump = pd.DataFrame([\n",
    "    {'name': 'feed pump', 'P': fp.P.val, 'eta_s': fp.eta_s.val, 'pr': fp.pr.val}\n",
    "])\n",
    "\n",
    "# Connections Results\n",
    "df_connections = pd.DataFrame([\n",
    "    {'label': '1', 'm': c1.m.val, 'p': c1.p.val, 'h': c1.h.val, 'T': c1.T.val},\n",
    "    {'label': '2', 'm': c2.m.val, 'p': c2.p.val, 'h': c2.h.val, 'T': c2.T.val},\n",
    "    {'label': '3', 'm': c3.m.val, 'p': c3.p.val, 'h': c3.h.val, 'T': c3.T.val},\n",
    "    {'label': '4', 'm': c4.m.val, 'p': c4.p.val, 'h': c4.h.val, 'T': c4.T.val},\n",
    "    {'label': '5', 'm': c5.m.val, 'p': c5.p.val, 'h': c5.h.val, 'T': c5.T.val},\n",
    "    {'label': '6', 'm': c6.m.val, 'p': c6.p.val, 'h': c6.h.val, 'T': c6.T.val},\n",
    "    {'label': '11', 'm': c11.m.val, 'p': c11.p.val, 'h': c11.h.val, 'T': c11.T.val},\n",
    "    {'label': '12', 'm': c12.m.val, 'p': c12.p.val, 'h': c12.h.val, 'T': c12.T.val}\n",
    "])\n",
    "\n",
    "# Buses Results for heat input\n",
    "df_buses_heat_input = pd.DataFrame([\n",
    "    {'name': 'steam generator', 'component value': sg.Q.val, 'bus value': 1.558e+08, 'efficiency': 1.000},\n",
    "    {'name': 'steam generator for reheating', 'component value': sgre.Q.val, 'bus value': 2.442e+07, 'efficiency': 1.000},\n",
    "    {'name': 'total', 'component value': 1.803e+08, 'bus value': 1.803e+08, 'efficiency': None}\n",
    "])\n",
    "\n",
    "# Buses Results for electrical power output\n",
    "df_buses_electric_output = pd.DataFrame([\n",
    "    {'name': 'steam turbine HP', 'component value': tuhp.P.val, 'bus value': -1.392e+07, 'efficiency': 9.310e-01},\n",
    "    {'name': 'steam turbine LP', 'component value': tulp.P.val, 'bus value': -4.226e+07, 'efficiency': 9.310e-01},\n",
    "    {'name': 'feed pump', 'component value': fp.P.val, 'bus value': 7.316e+05, 'efficiency': 9.500e-01},\n",
    "    {'name': 'total', 'component value': -5.965e+07, 'bus value': -5.545e+07, 'efficiency': None}\n",
    "])\n",
    "\n",
    "# Display DataFrames\n",
    "print(\"Turbine DataFrame\")\n",
    "print(df_turbine)\n",
    "\n",
    "print(\"\\nHeat Exchanger DataFrame\")\n",
    "print(df_heat_exchanger)\n",
    "\n",
    "print(\"\\nCondenser DataFrame\")\n",
    "print(df_condenser)\n",
    "\n",
    "print(\"\\nPump DataFrame\")\n",
    "print(df_pump)\n",
    "\n",
    "print(\"\\nConnections DataFrame\")\n",
    "print(df_connections)\n",
    "\n",
    "print(\"\\nBuses Heat Input DataFrame\")\n",
    "print(df_buses_heat_input)\n",
    "\n",
    "print(\"\\nBuses Electrical Power Output DataFrame\")\n",
    "print(df_buses_electric_output)"
   ]
  },
  {
   "cell_type": "markdown",
   "metadata": {},
   "source": [
    "### 2.2 Calculate the cycle efficiency\n"
   ]
  },
  {
   "cell_type": "code",
   "execution_count": null,
   "metadata": {},
   "outputs": [],
   "source": [
    "# Calculate net work output (electrical power generated by the turbine)\n",
    "W_net = abs(powergen.P.val)  # Taking absolute value to ensure positive net work\n",
    "\n",
    "# Calculate heat input to the cycle (heat supplied to the steam generator)\n",
    "Q_in = sg.Q.val\n",
    "\n",
    "# Calculate thermal efficiency of the cycle\n",
    "thermal_efficiency = ...\n",
    "\n",
    "print(f\"Thermal efficiency of the cycle with reheat: {round(thermal_efficiency * 100, 2)} %\")"
   ]
  },
  {
   "cell_type": "markdown",
   "metadata": {},
   "source": [
    "### 2.3 Calculate the efficiency including the power required for wet and dry cooling\n",
    "\n",
    "Assume the condensation temperature is equal in both cases:\n",
    "- **Power Block Parasitics:**\n",
    "  - **Wet Cooling:** 1679 kW\n",
    "  - **Dry Cooling:** 2729 kW"
   ]
  },
  {
   "cell_type": "code",
   "execution_count": null,
   "metadata": {},
   "outputs": [],
   "source": [
    "# Calculate net work output (electrical power generated by the turbine)\n",
    "W_net = abs(powergen.P.val)  # Taking absolute value to ensure positive net work\n",
    "\n",
    "# Calculate heat input to the cycle (heat supplied to the steam generator)\n",
    "Q_in = sg.Q.val\n",
    "\n",
    "# Calculate thermal efficiency of the cycle\n",
    "thermal_efficiency = ...\n",
    "\n",
    "print(f\"Thermal efficiency of the cycle with reheat (wet cooling): {round(thermal_efficiency * 100, 2)} %\")"
   ]
  },
  {
   "cell_type": "code",
   "execution_count": null,
   "metadata": {},
   "outputs": [],
   "source": [
    "# Calculate net work output (electrical power generated by the turbine)\n",
    "W_net = abs(powergen.P.val)  # Taking absolute value to ensure positive net work\n",
    "\n",
    "# Calculate heat input to the cycle (heat supplied to the steam generator)\n",
    "Q_in = sg.Q.val\n",
    "\n",
    "# Calculate thermal efficiency of the cycle\n",
    "thermal_efficiency = ...\n",
    "\n",
    "print(f\"Thermal efficiency of the cycle with reheat (dry cooling): {round(thermal_efficiency * 100, 2)} %\")"
   ]
  },
  {
   "cell_type": "markdown",
   "metadata": {},
   "source": [
    "### 2.4 What other factors are reducing the overall efficiency with dry cooling?"
   ]
  },
  {
   "cell_type": "markdown",
   "metadata": {},
   "source": [
    "### 2.5 Draw the T-s Diagram for the reheat cycle"
   ]
  },
  {
   "cell_type": "code",
   "execution_count": 164,
   "metadata": {},
   "outputs": [],
   "source": [
    "# Load the Excel file into a Pandas DataFrame\n",
    "file_path = 'data\\Steamtables.xlsx'\n",
    "df_steam = pd.read_excel(file_path, sheet_name='Tabelle1')\n",
    "\n",
    "# Extracting the data from steam tables\n",
    "temperature = df_steam['T (°C)']\n",
    "sv = df_steam['SV [kJ/(kg K)]']\n",
    "sl = df_steam['SL [kJ/(kg K)]']\n",
    "\n",
    "# New data with entropy values for specific states\n",
    "data_states = {\n",
    "    'State': [1, 2, 3, 4, 5, 6],\n",
    "    'm': [54.0, 54.0, 54.0, 54.0, 54.0, 54.0],\n",
    "    'p': [104.0, 20.51, 19.4, 0.05, 0.05, 115.6],\n",
    "    'h': [3036.0, 2760.0, 3212.0, 2371.0, 137.7, 150.6],\n",
    "    'T': [384.0, 213.6, 383.0, 32.87, 32.87, 32.87],\n",
    "    's': [6.106, 6.25, 7.089, 7.774, 0.47889, 0.4804]\n",
    "}\n",
    "\n",
    "# Create DataFrame for the states data\n",
    "df_states = pd.DataFrame(data_states)\n",
    "\n",
    "# Extracting the temperature and entropy data for states\n",
    "temperature_states = df_states['T']\n",
    "entropy_states = df_states['s']"
   ]
  },
  {
   "cell_type": "code",
   "execution_count": null,
   "metadata": {},
   "outputs": [],
   "source": [
    "fig, ax = plt.subplots(figsize=(10, 6))\n",
    "\n",
    "# Plotting SL and SV against Temperature from steam tables\n",
    "ax.plot(sv, temperature, label='SV [kJ/(kg K)]', color=\"#0065bd\")\n",
    "ax.plot(sl, temperature, label='SL [kJ/(kg K)]', color=\"#e37222\")\n",
    "\n",
    "# Setting axis limits\n",
    "ax.set_xlim(0, 10)\n",
    "ax.set_ylim(0, 500)\n",
    "\n",
    "# Labels and title\n",
    "ax.set_xlabel('Specific Entropy [kJ/(kg K)]')\n",
    "ax.set_ylabel('Temperature (°C)')\n",
    "plt.legend()\n",
    "\n",
    "ax.grid(True, color=\"#D3D3D3\")\n"
   ]
  },
  {
   "cell_type": "markdown",
   "metadata": {},
   "source": [
    "## Excursus: advantages of a simulation\n",
    "\n",
    "Having a simulation of a cycle allows to do parametric studies with ease."
   ]
  },
  {
   "cell_type": "code",
   "execution_count": null,
   "metadata": {},
   "outputs": [],
   "source": [
    "import numpy as np\n",
    "\n",
    "rankine.set_attr(iterinfo=False)\n",
    "\n",
    "# make text reasonably sized\n",
    "plt.rc('font', **{'size': 18})\n",
    "\n",
    "data = {\n",
    "    'T_livesteam': np.linspace(330, 450, 7),\n",
    "    'T_cooling': np.linspace(20, 45, 7),\n",
    "    'p_livesteam': np.linspace(75, 200, 7)\n",
    "}\n",
    "eta = {\n",
    "    'T_livesteam': [],\n",
    "    'T_cooling': [],\n",
    "    'p_livesteam': []\n",
    "}\n",
    "power = {\n",
    "    'T_livesteam': [],\n",
    "    'T_cooling': [],\n",
    "    'p_livesteam': []\n",
    "}\n",
    "\n",
    "for T in data['T_livesteam']:\n",
    "    c1.set_attr(T=T)\n",
    "    c3.set_attr(T=T-1)\n",
    "    rankine.solve('design')\n",
    "    eta['T_livesteam'] += [abs(powergen.P.val) / sg.Q.val * 100]\n",
    "    power['T_livesteam'] += [abs(powergen.P.val) / 1e6]\n",
    "\n",
    "# reset to base temperature\n",
    "c1.set_attr(T=T_tu_in)\n",
    "c3.set_attr(T=T_tu_in-1)\n",
    "mc.set_attr(ttd_u=4)        # Set to a DT of 4 otherwise conflicts in the condenser\n",
    "c4.set_attr(p=None)\n",
    "\n",
    "for T in data['T_cooling']:\n",
    "    c12.set_attr(T=T + 10)\n",
    "    c11.set_attr(T=T)\n",
    "    rankine.solve('design')\n",
    "    eta['T_cooling'] += [abs(powergen.P.val) / sg.Q.val * 100]\n",
    "    power['T_cooling'] += [abs(powergen.P.val) / 1e6]\n",
    "\n",
    "# reset to base temperature and pressure output\n",
    "mc.set_attr(ttd_u=None)\n",
    "c12.set_attr(T=T_coo_out)\n",
    "c11.set_attr(T=T_coo_in)\n",
    "c4.set_attr(p=p_tu_out)\n",
    "\n",
    "for p in data['p_livesteam']:\n",
    "    c1.set_attr(p=p)\n",
    "    rankine.solve('design')\n",
    "    eta['p_livesteam'] += [abs(powergen.P.val) / sg.Q.val * 100]\n",
    "    power['p_livesteam'] += [abs(powergen.P.val) / 1e6]\n",
    "\n",
    "# reset to base pressure\n",
    "c1.set_attr(p=p_tu_in)\n",
    "\n",
    "with mplstyle.context('ggplot', after_reset=False):\n",
    "    fig, ax = plt.subplots(2, 3, figsize=(16, 8), sharex='col', sharey='row')    \n",
    "    ax = ax.flatten()\n",
    "    [a.grid() for a in ax]\n",
    "    \n",
    "    i = 0\n",
    "    for key in data:\n",
    "        # Plotting lines\n",
    "        ax[i].plot(data[key], eta[key], marker='o', linestyle='-', color=\"#0065bd\", markersize=8,\n",
    "            linewidth=2)\n",
    "        ax[i].set_facecolor('white')\n",
    "        ax[i].grid(True, color=\"#D3D3D3\")\n",
    "        ax[i + 3].plot(data[key], power[key], marker='o', linestyle='-', color=\"#e37222\", markersize=8,\n",
    "            linewidth=2)\n",
    "        ax[i + 3].set_facecolor('white')\n",
    "        ax[i + 3].grid(True, color=\"#D3D3D3\")\n",
    "        i += 1\n",
    "        \n",
    "    ax[0].set_ylabel('Efficiency in %')\n",
    "    ax[3].set_ylabel('Power in MW')\n",
    "    ax[3].set_xlabel('Live steam temperature in °C')\n",
    "    ax[4].set_xlabel('Feed water temperature in °C')\n",
    "    ax[5].set_xlabel('Live steam pressure in bar')\n",
    "    plt.tight_layout()\n",
    "    plt.savefig(r\"figs\\Boundaries.svg\", format='svg', dpi=300)\n",
    "    plt.show()"
   ]
  }
 ],
 "metadata": {
  "kernelspec": {
   "display_name": "csp",
   "language": "python",
   "name": "python3"
  },
  "language_info": {
   "codemirror_mode": {
    "name": "ipython",
    "version": 3
   },
   "file_extension": ".py",
   "mimetype": "text/x-python",
   "name": "python",
   "nbconvert_exporter": "python",
   "pygments_lexer": "ipython3",
   "version": "3.11.11"
  }
 },
 "nbformat": 4,
 "nbformat_minor": 2
}
