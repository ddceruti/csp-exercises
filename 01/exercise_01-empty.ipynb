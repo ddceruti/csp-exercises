{
 "cells": [
  {
   "cell_type": "markdown",
   "metadata": {},
   "source": [
    "# First Exercise\n",
    "\n",
    "In this first exercise we will process time series data for renewable energy generation technologies.\n",
    "Additionally we will investigate the .epw weather file format and assess which information is useful for concentrating solar power plants.\n",
    "\n",
    "This is the first of in total 3 exercises which are part of the lecture\n",
    "\"Solarthermische Kraftwerke\" at Technische Universität München."
   ]
  },
  {
   "cell_type": "markdown",
   "metadata": {},
   "source": [
    "## Import required packages"
   ]
  },
  {
   "cell_type": "code",
   "execution_count": 21,
   "metadata": {},
   "outputs": [],
   "source": [
    "import pandas as pd\n",
    "import numpy as np\n",
    "import matplotlib.pyplot as plt"
   ]
  },
  {
   "cell_type": "markdown",
   "metadata": {},
   "source": [
    "## Import epw format"
   ]
  },
  {
   "cell_type": "code",
   "execution_count": 22,
   "metadata": {},
   "outputs": [],
   "source": [
    "try:\n",
    "  from epw import epw\n",
    "except ModuleNotFoundError:\n",
    "  %pip install git+https://github.com/building-energy/epw.git@master\n",
    "  from epw import epw"
   ]
  },
  {
   "cell_type": "markdown",
   "metadata": {},
   "source": [
    "## Import weather data\n",
    "\n",
    "The weather data is defined by an [.epw file](https://climate.onebuilding.org/papers/EnergyPlus_Weather_File_Format.pdf), a commonly used data format for the open-source simulation software [Energy Plus](https://energyplus.net/). It is a text file with a standardized structure fit for weather information. The files can be downloaded from several sources. In our case the data was downloaded from [PVGIS](https://re.jrc.ec.europa.eu/pvg_tools/de/#PVTR)\n",
    "\n",
    "The data is obtained from weather satellites, either [SARAH2](https://joint-research-centre.ec.europa.eu/photovoltaic-geographical-information-system-pvgis/pvgis-data-download/sarah-2-solar-radiation-data_en) or ERA5, which have detailed meteorological data for several years. This data is sometimes processed to so-called Typical Meteorological Years (TMY):\n",
    ">A typical meteorological year (TMY) is a set of meteorological data with data values for every hour in a year for a given geographical location. The data are selected from hourly data in a longer time period (normally 10 years or more). The TMY tool can be used to interactively visualise all the data or to download the data as a text file.\n",
    "Source: PVGIS help"
   ]
  },
  {
   "cell_type": "markdown",
   "metadata": {},
   "source": [
    "## Question 0 \n",
    "1. Open the .epw file in the text editor and check out the exact location (located in the header of the epw file), where the data is collected on the satellite map. What can you see? `Hint: Have a look at the documentation of .ewp linked the read me`\n",
    "2. What is the unit for the single columns?\n",
    "    - Radiation: \n",
    "    - Wind Speed:\n",
    "    - Dry Bulb Temperature:\n"
   ]
  },
  {
   "cell_type": "markdown",
   "metadata": {},
   "source": [
    "## Question 1\n",
    "\n",
    "Open the `./data/tmy_37.562_-5.330_2005_2020-sarah2.epw` weather file of the\n",
    "location in Granada, Spain, with the text editor of your choice and list the\n",
    "information which could be useful to simulate: \n",
    "\n",
    "1. Photovoltaics\n",
    "2. Solar Thermal\n",
    "3. Concentrating Solar Thermal"
   ]
  },
  {
   "cell_type": "markdown",
   "metadata": {},
   "source": [
    "### 1.1 Read ewp file"
   ]
  },
  {
   "cell_type": "code",
   "execution_count": 23,
   "metadata": {},
   "outputs": [],
   "source": [
    "# initialize the epw object\n",
    "weather_file = epw()\n",
    "# read in the epw file\n",
    "weather_file.read('./data/tmy_37.562_-5.330_2005_2020-sarah2.epw')"
   ]
  },
  {
   "cell_type": "markdown",
   "metadata": {},
   "source": [
    "### 1.2 Convert to pandas `dataframe`"
   ]
  },
  {
   "cell_type": "code",
   "execution_count": 24,
   "metadata": {},
   "outputs": [],
   "source": [
    "# convert the epw object to a pandas dataframe\n",
    "df = weather_file.dataframe"
   ]
  },
  {
   "cell_type": "markdown",
   "metadata": {},
   "source": [
    "### 1.3  Check the length with `shape[]` and compare to the hours per year. In your own words, what is probably contained in the dataset ?"
   ]
  },
  {
   "cell_type": "code",
   "execution_count": null,
   "metadata": {},
   "outputs": [],
   "source": []
  },
  {
   "cell_type": "markdown",
   "metadata": {},
   "source": [
    "### 1.4 Visualize all `column` names"
   ]
  },
  {
   "cell_type": "code",
   "execution_count": null,
   "metadata": {},
   "outputs": [],
   "source": []
  },
  {
   "cell_type": "markdown",
   "metadata": {},
   "source": [
    "### 1.5 Visualize with `unique`comand the unique entries in the column years\n",
    "The datetime contains multiple years depending on the month. Why is that? "
   ]
  },
  {
   "cell_type": "code",
   "execution_count": null,
   "metadata": {},
   "outputs": [],
   "source": []
  },
  {
   "cell_type": "markdown",
   "metadata": {},
   "source": []
  },
  {
   "cell_type": "markdown",
   "metadata": {},
   "source": [
    "### 1.6 Create new `dataframe` and set the column `\"Year\"` to a value of your choice\n",
    "This is for better postprocessing."
   ]
  },
  {
   "cell_type": "code",
   "execution_count": 12,
   "metadata": {},
   "outputs": [],
   "source": []
  },
  {
   "cell_type": "markdown",
   "metadata": {},
   "source": [
    "> There is also an other option to set all years in the dataframe the same. You can choose which one is better for you."
   ]
  },
  {
   "cell_type": "markdown",
   "metadata": {},
   "source": [
    "### 1.7 Use pandas `to_datetime` to set an `index`"
   ]
  },
  {
   "cell_type": "code",
   "execution_count": 13,
   "metadata": {},
   "outputs": [],
   "source": []
  },
  {
   "cell_type": "markdown",
   "metadata": {},
   "source": [
    "### 1.8 Visualize the dataframe and have a look at columns and rows. Which columns provide congruent/redundant information after the previous preprocessing steps?"
   ]
  },
  {
   "cell_type": "code",
   "execution_count": null,
   "metadata": {},
   "outputs": [],
   "source": []
  },
  {
   "cell_type": "markdown",
   "metadata": {},
   "source": [
    "### 1.9 Visualize all column names in your dataframe as an index object for easy copy-pasting later on "
   ]
  },
  {
   "cell_type": "code",
   "execution_count": null,
   "metadata": {},
   "outputs": [],
   "source": []
  },
  {
   "cell_type": "markdown",
   "metadata": {},
   "source": [
    "### 1.10 Tidy up the data set. Use the command `drop` to drop empty columns and safe to new dataframe.\n",
    "\n",
    "For better understanding, which column has missing values/is empty check the [.epw file documentation](https://climate.onebuilding.org/papers/EnergyPlus_Weather_File_Format.pdf)"
   ]
  },
  {
   "cell_type": "code",
   "execution_count": 16,
   "metadata": {},
   "outputs": [],
   "source": []
  },
  {
   "cell_type": "markdown",
   "metadata": {},
   "source": [
    "### 1.11 Visualize the created dataframe"
   ]
  },
  {
   "cell_type": "code",
   "execution_count": null,
   "metadata": {},
   "outputs": [],
   "source": []
  },
  {
   "cell_type": "markdown",
   "metadata": {},
   "source": [
    "### 1.12 Typical design values of the wind speed parameter are 34 to 41 m/s, assumed for a 30- or 50-year wind gust. What is the maximum and minimum wind speed in the data set? Does it deviate significantly from the design parameter, and if so, why?"
   ]
  },
  {
   "cell_type": "code",
   "execution_count": null,
   "metadata": {},
   "outputs": [],
   "source": []
  },
  {
   "cell_type": "markdown",
   "metadata": {},
   "source": [
    "## Question 2 - Dealing with time series data\n",
    "\n",
    "### 2.1 Time series data contains lots of information with high temporal resolution. Plotting it is generally a good first step to getting and overview. Choose the `'Dry Bulb Temperature'`for the first plot. What can be seen?\n",
    "\n",
    "Hint: use the pandas .plot() method or plot with matplotlib.pyplot"
   ]
  },
  {
   "cell_type": "code",
   "execution_count": null,
   "metadata": {},
   "outputs": [],
   "source": []
  },
  {
   "cell_type": "markdown",
   "metadata": {},
   "source": [
    "### 2.2 To get a better overview plot the mean daily Dry Bulb Temperature.\n",
    "\n",
    "Helpful functions: \n",
    "- resample()\n",
    "- mean()"
   ]
  },
  {
   "cell_type": "code",
   "execution_count": null,
   "metadata": {},
   "outputs": [],
   "source": []
  },
  {
   "cell_type": "markdown",
   "metadata": {},
   "source": [
    "### 2.3 Plot all available radiation types "
   ]
  },
  {
   "cell_type": "code",
   "execution_count": null,
   "metadata": {},
   "outputs": [],
   "source": []
  },
  {
   "cell_type": "markdown",
   "metadata": {},
   "source": [
    "### 2.4 Plot the mean values of the available radiation\n",
    "\n",
    "Hint: use the method `resample()`"
   ]
  },
  {
   "cell_type": "code",
   "execution_count": null,
   "metadata": {},
   "outputs": [],
   "source": []
  },
  {
   "cell_type": "markdown",
   "metadata": {},
   "source": [
    "### 2.5 Plot the monthly sum of incoming radiation"
   ]
  },
  {
   "cell_type": "code",
   "execution_count": null,
   "metadata": {},
   "outputs": [],
   "source": []
  },
  {
   "cell_type": "markdown",
   "metadata": {},
   "source": [
    "### 2.6 Which radiation has the largest fluctuation during the year? "
   ]
  },
  {
   "cell_type": "code",
   "execution_count": null,
   "metadata": {
    "vscode": {
     "languageId": "plaintext"
    }
   },
   "outputs": [],
   "source": []
  },
  {
   "cell_type": "markdown",
   "metadata": {},
   "source": [
    "### 2.7 Calculate the fluctuation with statistical indicators \n",
    "\n",
    "Hint: standard deviation, variance"
   ]
  },
  {
   "cell_type": "code",
   "execution_count": null,
   "metadata": {},
   "outputs": [],
   "source": []
  },
  {
   "cell_type": "markdown",
   "metadata": {},
   "source": [
    "### 2.8 Is there any incongruence between the first visual assessment and the mathematical?"
   ]
  },
  {
   "cell_type": "markdown",
   "metadata": {},
   "source": []
  },
  {
   "cell_type": "markdown",
   "metadata": {},
   "source": [
    "### 2.9 What is the difference between the radiation types and which are converted in solar technologies:\n",
    "\n",
    "1. Photovoltaic\n",
    "2. Solar Thermal\n",
    "3. Concentrating Solar Thermal"
   ]
  },
  {
   "cell_type": "markdown",
   "metadata": {},
   "source": []
  },
  {
   "cell_type": "markdown",
   "metadata": {},
   "source": [
    "## 3. Comparison of the solar potential of two locations"
   ]
  },
  {
   "cell_type": "markdown",
   "metadata": {},
   "source": [
    "### 3.1 Load the weatherfile of your own [hometown](https://climate.onebuilding.org/WMO_Region_6_Europe/default.html) or load the sample from Garching, Germany `'./data/tmy_48.264_11.670_2005_2020.epw'`"
   ]
  },
  {
   "cell_type": "code",
   "execution_count": 30,
   "metadata": {},
   "outputs": [],
   "source": []
  },
  {
   "cell_type": "markdown",
   "metadata": {},
   "source": [
    "### 3.2 Convert the ewp object to pandas dataframes"
   ]
  },
  {
   "cell_type": "code",
   "execution_count": null,
   "metadata": {},
   "outputs": [],
   "source": []
  },
  {
   "cell_type": "markdown",
   "metadata": {},
   "source": [
    "### 3.3 Analyze the data of the new location and compare it to Granada, Spain\n",
    "\n",
    "Have a detailed look on the radiation types at the two different locations. What can be seen? Which one has a greater potential for the different solar technologies listed in question 2.9?"
   ]
  },
  {
   "cell_type": "code",
   "execution_count": null,
   "metadata": {},
   "outputs": [],
   "source": []
  }
 ],
 "metadata": {
  "kernelspec": {
   "display_name": "csp",
   "language": "python",
   "name": "python3"
  },
  "language_info": {
   "codemirror_mode": {
    "name": "ipython",
    "version": 3
   },
   "file_extension": ".py",
   "mimetype": "text/x-python",
   "name": "python",
   "nbconvert_exporter": "python",
   "pygments_lexer": "ipython3",
   "version": "3.11.9"
  }
 },
 "nbformat": 4,
 "nbformat_minor": 2
}
