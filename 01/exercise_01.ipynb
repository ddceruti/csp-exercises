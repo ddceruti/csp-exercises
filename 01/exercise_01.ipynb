{
 "cells": [
  {
   "cell_type": "markdown",
   "metadata": {},
   "source": [
    "> This is the first of in total 3 exercises which are examinated within the lecture \"Solarthermische Kraftwerke\" at Technische Universität München"
   ]
  },
  {
   "cell_type": "markdown",
   "metadata": {},
   "source": [
    "# First Exercise\n",
    "\n",
    "In this first exercise we will process time series data for renewable energy generation technologies. Additionally we will investigate the .epw weather file format and assess which information is useful for concentrating solar power plants."
   ]
  },
  {
   "cell_type": "markdown",
   "metadata": {},
   "source": [
    "## Import required packages"
   ]
  },
  {
   "cell_type": "code",
   "execution_count": 1,
   "metadata": {},
   "outputs": [],
   "source": [
    "import pandas as pd\n",
    "import numpy as np\n",
    "import matplotlib.pyplot as plt"
   ]
  },
  {
   "cell_type": "markdown",
   "metadata": {},
   "source": [
    "## Import weather data\n",
    "\n",
    "The weather data is defined by an [.epw file](https://climate.onebuilding.org/papers/EnergyPlus_Weather_File_Format.pdf), a commonly used data format for the open-source simulation software [Energy Plus](https://energyplus.net/). It is a text file with a standardized structure fit for weather information. The files can be downloaded from several sources. In our case the data was downloaded from [PVGIS](https://re.jrc.ec.europa.eu/pvg_tools/de/#PVTR)\n",
    "\n",
    "The data is obtained from weather satellites, either [SARAH2](https://joint-research-centre.ec.europa.eu/photovoltaic-geographical-information-system-pvgis/pvgis-data-download/sarah-2-solar-radiation-data_en) or ERA5, which have detailed meteorological data for several years. This data is sometimes processed to so-called Typical Meteorological Years (TMY):\n",
    ">A typical meteorological year (TMY) is a set of meteorological data with data values for every hour in a year for a given geographical location. The data are selected from hourly data in a longer time period (normally 10 years or more). The TMY tool can be used to interactively visualise all the data or to download the data as a text file.\n",
    "Source: PVGIS help"
   ]
  },
  {
   "cell_type": "markdown",
   "metadata": {},
   "source": [
    "# Question 0 \n",
    "1. Open the .epw file in the text editor and check out the exact location (located in the header of the epw file), where the data is collectet on the sattelite map. What can you see?\n",
    "> GPS Location: 37.562000,-5.330000\n",
    "2. What is the unit for the single columns?\n",
    "    - Radiation: \n",
    "    - Wind Speed:\n",
    "    - Dry Bulb Temperature:\n",
    ">   - Radiation: Wh/m^2\n",
    "    - Wind Speed: m/s\n",
    "    - Dry Bulb Temperature: °C\n"
   ]
  },
  {
   "cell_type": "markdown",
   "metadata": {},
   "source": [
    "## Question 1\n",
    "\n",
    "Open the `./data/tmy_37.562_-5.330_2005_2020-sarah2.epw` weather file of the\n",
    "location in Granada, Spain, with the text editor of your choice and list the\n",
    "information which could be useful to simulate: \n",
    "\n",
    "1. Photovoltaics\n",
    "2. Solar Thermal\n",
    "3. Concentrating Solar Thermal"
   ]
  },
  {
   "cell_type": "markdown",
   "metadata": {},
   "source": [
    "### 1.1 Read ewp file"
   ]
  },
  {
   "cell_type": "code",
   "execution_count": 2,
   "metadata": {},
   "outputs": [],
   "source": [
    "# These are the column names as defined for an epw file. Refer to the\n",
    "# documentation to check them\n",
    "EPW_COLUMNS = (\n",
    "    'Year',\n",
    "    'Month',\n",
    "    'Day',\n",
    "    'Hour',\n",
    "    'Minute',\n",
    "    'Data Source and Uncertainty Flags',\n",
    "    'Dry Bulb Temperature',\n",
    "    'Dew Point Temperature',\n",
    "    'Relative Humidity',\n",
    "    'Atmospheric Station Pressure',\n",
    "    'Extraterrestrial Horizontal Radiation',\n",
    "    'Extraterrestrial Direct Normal Radiation',\n",
    "    'Horizontal Infrared Radiation Intensity',\n",
    "    'Global Horizontal Radiation',\n",
    "    'Direct Normal Radiation',\n",
    "    'Diffuse Horizontal Radiation',\n",
    "    'Global Horizontal Illuminance',\n",
    "    'Direct Normal Illuminance',\n",
    "    'Diffuse Horizontal Illuminance',\n",
    "    'Zenith Luminance',\n",
    "    'Wind Direction',\n",
    "    'Wind Speed',\n",
    "    'Total Sky Cover',\n",
    "    'Opaque Sky Cover',\n",
    "    'Visibility',\n",
    "    'Ceiling Height',\n",
    "    'Present Weather Observation',\n",
    "    'Present Weather Codes',\n",
    "    'Precipitable Water',\n",
    "    'Aerosol Optical Depth',\n",
    "    'Snow Depth',\n",
    "    'Days Since Last Snowfall',\n",
    "    'Albedo',\n",
    "    'Liquid Precipitation Depth',\n",
    "    'Liquid Precipitation Quantity'\n",
    ")"
   ]
  },
  {
   "cell_type": "code",
   "execution_count": 3,
   "metadata": {},
   "outputs": [],
   "source": [
    "# here, we read the textfile and decide to skip non-tabular data at the\n",
    "# beginning of the file. Additionally, we define a header (column names)\n",
    "df = pd.read_csv('./data/tmy_37.562_-5.330_2005_2020-sarah2.epw',\n",
    "                           skiprows=8,\n",
    "                           sep=',', decimal='.',\n",
    "                           header=None,\n",
    "                           names=EPW_COLUMNS)"
   ]
  },
  {
   "cell_type": "code",
   "execution_count": 4,
   "metadata": {},
   "outputs": [
    {
     "data": {
      "text/html": [
       "<div>\n",
       "<style scoped>\n",
       "    .dataframe tbody tr th:only-of-type {\n",
       "        vertical-align: middle;\n",
       "    }\n",
       "\n",
       "    .dataframe tbody tr th {\n",
       "        vertical-align: top;\n",
       "    }\n",
       "\n",
       "    .dataframe thead th {\n",
       "        text-align: right;\n",
       "    }\n",
       "</style>\n",
       "<table border=\"1\" class=\"dataframe\">\n",
       "  <thead>\n",
       "    <tr style=\"text-align: right;\">\n",
       "      <th></th>\n",
       "      <th>Year</th>\n",
       "      <th>Month</th>\n",
       "      <th>Day</th>\n",
       "      <th>Hour</th>\n",
       "      <th>Minute</th>\n",
       "      <th>Data Source and Uncertainty Flags</th>\n",
       "      <th>Dry Bulb Temperature</th>\n",
       "      <th>Dew Point Temperature</th>\n",
       "      <th>Relative Humidity</th>\n",
       "      <th>Atmospheric Station Pressure</th>\n",
       "      <th>...</th>\n",
       "      <th>Ceiling Height</th>\n",
       "      <th>Present Weather Observation</th>\n",
       "      <th>Present Weather Codes</th>\n",
       "      <th>Precipitable Water</th>\n",
       "      <th>Aerosol Optical Depth</th>\n",
       "      <th>Snow Depth</th>\n",
       "      <th>Days Since Last Snowfall</th>\n",
       "      <th>Albedo</th>\n",
       "      <th>Liquid Precipitation Depth</th>\n",
       "      <th>Liquid Precipitation Quantity</th>\n",
       "    </tr>\n",
       "  </thead>\n",
       "  <tbody>\n",
       "    <tr>\n",
       "      <th>0</th>\n",
       "      <td>2005</td>\n",
       "      <td>1</td>\n",
       "      <td>1</td>\n",
       "      <td>1</td>\n",
       "      <td>0</td>\n",
       "      <td>B8B8E8B8?1A1A1A1?0?0?0?0B8B8?0?0?0?0?0?0?0?0</td>\n",
       "      <td>6.99</td>\n",
       "      <td>2.43</td>\n",
       "      <td>75.55</td>\n",
       "      <td>101048.68</td>\n",
       "      <td>...</td>\n",
       "      <td>99999</td>\n",
       "      <td>9</td>\n",
       "      <td>999999999</td>\n",
       "      <td>999</td>\n",
       "      <td>0.999</td>\n",
       "      <td>999</td>\n",
       "      <td>99</td>\n",
       "      <td>999</td>\n",
       "      <td>999</td>\n",
       "      <td>99</td>\n",
       "    </tr>\n",
       "    <tr>\n",
       "      <th>1</th>\n",
       "      <td>2005</td>\n",
       "      <td>1</td>\n",
       "      <td>1</td>\n",
       "      <td>2</td>\n",
       "      <td>0</td>\n",
       "      <td>B8B8E8B8?1A1A1A1?0?0?0?0B8B8?0?0?0?0?0?0?0?0</td>\n",
       "      <td>6.03</td>\n",
       "      <td>2.27</td>\n",
       "      <td>79.36</td>\n",
       "      <td>101048.68</td>\n",
       "      <td>...</td>\n",
       "      <td>99999</td>\n",
       "      <td>9</td>\n",
       "      <td>999999999</td>\n",
       "      <td>999</td>\n",
       "      <td>0.999</td>\n",
       "      <td>999</td>\n",
       "      <td>99</td>\n",
       "      <td>999</td>\n",
       "      <td>999</td>\n",
       "      <td>99</td>\n",
       "    </tr>\n",
       "    <tr>\n",
       "      <th>2</th>\n",
       "      <td>2005</td>\n",
       "      <td>1</td>\n",
       "      <td>1</td>\n",
       "      <td>3</td>\n",
       "      <td>0</td>\n",
       "      <td>B8B8E8B8?1A1A1A1?0?0?0?0B8B8?0?0?0?0?0?0?0?0</td>\n",
       "      <td>5.07</td>\n",
       "      <td>2.11</td>\n",
       "      <td>83.18</td>\n",
       "      <td>100999.68</td>\n",
       "      <td>...</td>\n",
       "      <td>99999</td>\n",
       "      <td>9</td>\n",
       "      <td>999999999</td>\n",
       "      <td>999</td>\n",
       "      <td>0.999</td>\n",
       "      <td>999</td>\n",
       "      <td>99</td>\n",
       "      <td>999</td>\n",
       "      <td>999</td>\n",
       "      <td>99</td>\n",
       "    </tr>\n",
       "    <tr>\n",
       "      <th>3</th>\n",
       "      <td>2005</td>\n",
       "      <td>1</td>\n",
       "      <td>1</td>\n",
       "      <td>4</td>\n",
       "      <td>0</td>\n",
       "      <td>B8B8E8B8?1A1A1A1?0?0?0?0B8B8?0?0?0?0?0?0?0?0</td>\n",
       "      <td>4.10</td>\n",
       "      <td>1.95</td>\n",
       "      <td>87.00</td>\n",
       "      <td>100989.88</td>\n",
       "      <td>...</td>\n",
       "      <td>99999</td>\n",
       "      <td>9</td>\n",
       "      <td>999999999</td>\n",
       "      <td>999</td>\n",
       "      <td>0.999</td>\n",
       "      <td>999</td>\n",
       "      <td>99</td>\n",
       "      <td>999</td>\n",
       "      <td>999</td>\n",
       "      <td>99</td>\n",
       "    </tr>\n",
       "    <tr>\n",
       "      <th>4</th>\n",
       "      <td>2005</td>\n",
       "      <td>1</td>\n",
       "      <td>1</td>\n",
       "      <td>5</td>\n",
       "      <td>0</td>\n",
       "      <td>B8B8E8B8?1A1A1A1?0?0?0?0B8B8?0?0?0?0?0?0?0?0</td>\n",
       "      <td>3.14</td>\n",
       "      <td>1.79</td>\n",
       "      <td>90.82</td>\n",
       "      <td>100989.88</td>\n",
       "      <td>...</td>\n",
       "      <td>99999</td>\n",
       "      <td>9</td>\n",
       "      <td>999999999</td>\n",
       "      <td>999</td>\n",
       "      <td>0.999</td>\n",
       "      <td>999</td>\n",
       "      <td>99</td>\n",
       "      <td>999</td>\n",
       "      <td>999</td>\n",
       "      <td>99</td>\n",
       "    </tr>\n",
       "  </tbody>\n",
       "</table>\n",
       "<p>5 rows × 35 columns</p>\n",
       "</div>"
      ],
      "text/plain": [
       "   Year  Month  Day  Hour  Minute  \\\n",
       "0  2005      1    1     1       0   \n",
       "1  2005      1    1     2       0   \n",
       "2  2005      1    1     3       0   \n",
       "3  2005      1    1     4       0   \n",
       "4  2005      1    1     5       0   \n",
       "\n",
       "              Data Source and Uncertainty Flags  Dry Bulb Temperature  \\\n",
       "0  B8B8E8B8?1A1A1A1?0?0?0?0B8B8?0?0?0?0?0?0?0?0                  6.99   \n",
       "1  B8B8E8B8?1A1A1A1?0?0?0?0B8B8?0?0?0?0?0?0?0?0                  6.03   \n",
       "2  B8B8E8B8?1A1A1A1?0?0?0?0B8B8?0?0?0?0?0?0?0?0                  5.07   \n",
       "3  B8B8E8B8?1A1A1A1?0?0?0?0B8B8?0?0?0?0?0?0?0?0                  4.10   \n",
       "4  B8B8E8B8?1A1A1A1?0?0?0?0B8B8?0?0?0?0?0?0?0?0                  3.14   \n",
       "\n",
       "   Dew Point Temperature  Relative Humidity  Atmospheric Station Pressure  \\\n",
       "0                   2.43              75.55                     101048.68   \n",
       "1                   2.27              79.36                     101048.68   \n",
       "2                   2.11              83.18                     100999.68   \n",
       "3                   1.95              87.00                     100989.88   \n",
       "4                   1.79              90.82                     100989.88   \n",
       "\n",
       "   ...  Ceiling Height  Present Weather Observation  Present Weather Codes  \\\n",
       "0  ...           99999                            9              999999999   \n",
       "1  ...           99999                            9              999999999   \n",
       "2  ...           99999                            9              999999999   \n",
       "3  ...           99999                            9              999999999   \n",
       "4  ...           99999                            9              999999999   \n",
       "\n",
       "   Precipitable Water  Aerosol Optical Depth  Snow Depth  \\\n",
       "0                 999                  0.999         999   \n",
       "1                 999                  0.999         999   \n",
       "2                 999                  0.999         999   \n",
       "3                 999                  0.999         999   \n",
       "4                 999                  0.999         999   \n",
       "\n",
       "   Days Since Last Snowfall  Albedo  Liquid Precipitation Depth  \\\n",
       "0                        99     999                         999   \n",
       "1                        99     999                         999   \n",
       "2                        99     999                         999   \n",
       "3                        99     999                         999   \n",
       "4                        99     999                         999   \n",
       "\n",
       "   Liquid Precipitation Quantity  \n",
       "0                             99  \n",
       "1                             99  \n",
       "2                             99  \n",
       "3                             99  \n",
       "4                             99  \n",
       "\n",
       "[5 rows x 35 columns]"
      ]
     },
     "execution_count": 4,
     "metadata": {},
     "output_type": "execute_result"
    }
   ],
   "source": [
    "df.head()"
   ]
  },
  {
   "cell_type": "markdown",
   "metadata": {},
   "source": [
    "### 1.2  Check the length with `shape[]` and compare to annual hours. What is probably contained in the dataset ?"
   ]
  },
  {
   "cell_type": "code",
   "execution_count": null,
   "metadata": {},
   "outputs": [],
   "source": []
  },
  {
   "cell_type": "markdown",
   "metadata": {},
   "source": [
    "### 1.3 Visualize all `column` names"
   ]
  },
  {
   "cell_type": "code",
   "execution_count": null,
   "metadata": {},
   "outputs": [],
   "source": []
  },
  {
   "cell_type": "markdown",
   "metadata": {},
   "source": [
    "### 1.4 Visualize with `unique`comand the unique entries in the column years\n",
    "The datetime contains multiple years depending on the month. Why is that?"
   ]
  },
  {
   "cell_type": "code",
   "execution_count": null,
   "metadata": {},
   "outputs": [],
   "source": []
  },
  {
   "cell_type": "markdown",
   "metadata": {},
   "source": [
    "### 1.5 Create new `dataframe` and set the column `\"Year\"` to a value of your choice\n",
    "\n",
    "This is for better postprocessing and does not correspond to the actual year of data."
   ]
  },
  {
   "cell_type": "code",
   "execution_count": null,
   "metadata": {},
   "outputs": [],
   "source": []
  },
  {
   "cell_type": "markdown",
   "metadata": {},
   "source": [
    "> There are also other options to set years in the dataframe. You can choose which one is better for you."
   ]
  },
  {
   "cell_type": "markdown",
   "metadata": {},
   "source": [
    "### 1.6 Use pandas `to_datetime` to set an `index`"
   ]
  },
  {
   "cell_type": "code",
   "execution_count": null,
   "metadata": {},
   "outputs": [],
   "source": []
  },
  {
   "cell_type": "markdown",
   "metadata": {},
   "source": [
    "### 1.7 Visualize the dataframe and have a look at columns and rows. Which columns provide congruent/redundant information after the previous preprocessing steps?"
   ]
  },
  {
   "cell_type": "code",
   "execution_count": null,
   "metadata": {},
   "outputs": [],
   "source": []
  },
  {
   "cell_type": "markdown",
   "metadata": {},
   "source": [
    "### 1.8 Visualize all column names in your dataframe as an index object for easy copy-pasting later on "
   ]
  },
  {
   "cell_type": "code",
   "execution_count": null,
   "metadata": {},
   "outputs": [],
   "source": []
  },
  {
   "cell_type": "markdown",
   "metadata": {},
   "source": [
    "### 1.9 Tidy up the data set. Use the command `drop` to drop empty columns and safe to new dataframe.\n",
    "\n",
    "For better understanding, which column has missing values/is empty check the [.epw file documentation](https://climate.onebuilding.org/papers/EnergyPlus_Weather_File_Format.pdf)"
   ]
  },
  {
   "cell_type": "code",
   "execution_count": null,
   "metadata": {},
   "outputs": [],
   "source": []
  },
  {
   "cell_type": "markdown",
   "metadata": {},
   "source": [
    "### 1.10 Visualize the created dataframe"
   ]
  },
  {
   "cell_type": "code",
   "execution_count": null,
   "metadata": {},
   "outputs": [],
   "source": []
  },
  {
   "cell_type": "markdown",
   "metadata": {},
   "source": [
    "### 1.11 Typical design values of the wind speed parameter are 34 to 41 m/s, assumed for a 30- or 50-year wind gust. What is the maximum and minimum wind speed in the data set? Does it deviate significantly from the design parameter, and if so, why?"
   ]
  },
  {
   "cell_type": "code",
   "execution_count": null,
   "metadata": {},
   "outputs": [],
   "source": []
  },
  {
   "cell_type": "code",
   "execution_count": null,
   "metadata": {},
   "outputs": [],
   "source": []
  },
  {
   "cell_type": "code",
   "execution_count": null,
   "metadata": {},
   "outputs": [],
   "source": []
  },
  {
   "cell_type": "markdown",
   "metadata": {},
   "source": [
    "## Question 2 - Dealing with time series data\n",
    "\n",
    "### 2.1 Time series data contains lots of information with high temporal resolution. Plotting it is generally a good first step to getting and overview. Choose the `'Dry Bulb Temperature'`for the first plot. What can be seen?\n",
    "\n",
    "Hint: use the pandas .plot() method or plot with matplotlib.pyplot"
   ]
  },
  {
   "cell_type": "code",
   "execution_count": null,
   "metadata": {},
   "outputs": [],
   "source": []
  },
  {
   "cell_type": "markdown",
   "metadata": {},
   "source": [
    "### 2.2 To get a better overview plot the mean daily Dry Bulb Temperature.\n",
    "\n",
    "Helpful functions: \n",
    "- resample()\n",
    "- mean()"
   ]
  },
  {
   "cell_type": "code",
   "execution_count": null,
   "metadata": {},
   "outputs": [],
   "source": []
  },
  {
   "cell_type": "markdown",
   "metadata": {},
   "source": [
    "### 2.3 Plot all available radiation types "
   ]
  },
  {
   "cell_type": "code",
   "execution_count": null,
   "metadata": {},
   "outputs": [],
   "source": []
  },
  {
   "cell_type": "markdown",
   "metadata": {},
   "source": [
    "### 2.4 Plot the mean values of the available radiation\n",
    "\n",
    "Hint: use the method `resample()`"
   ]
  },
  {
   "cell_type": "code",
   "execution_count": null,
   "metadata": {},
   "outputs": [],
   "source": []
  },
  {
   "cell_type": "markdown",
   "metadata": {},
   "source": [
    "### 2.5 Plot the monthly sum of incoming radiation"
   ]
  },
  {
   "cell_type": "code",
   "execution_count": null,
   "metadata": {},
   "outputs": [],
   "source": []
  },
  {
   "cell_type": "markdown",
   "metadata": {},
   "source": [
    "### 2.6 Which radiation has the largest fluctuation during the year? "
   ]
  },
  {
   "cell_type": "markdown",
   "metadata": {},
   "source": []
  },
  {
   "cell_type": "markdown",
   "metadata": {},
   "source": [
    "### 2.7 Calculate the fluctuation with statistical indicators \n",
    "\n",
    "Hint: standard deviation, variance"
   ]
  },
  {
   "cell_type": "code",
   "execution_count": null,
   "metadata": {},
   "outputs": [],
   "source": []
  },
  {
   "cell_type": "markdown",
   "metadata": {},
   "source": [
    "### 2.8 Is there any incongruence between the first visual assessment and the mathematical?"
   ]
  },
  {
   "cell_type": "markdown",
   "metadata": {},
   "source": []
  },
  {
   "cell_type": "markdown",
   "metadata": {},
   "source": [
    "### 2.9 What is the difference between the radiation types and which are converted in solar technologies:\n",
    "\n",
    "1. Photovoltaics\n",
    "2. Solar Thermal\n",
    "3. Concentrating Solar Thermal"
   ]
  },
  {
   "cell_type": "markdown",
   "metadata": {},
   "source": []
  },
  {
   "cell_type": "markdown",
   "metadata": {},
   "source": [
    "## 3. Comparison of the solar potential of two locations"
   ]
  },
  {
   "cell_type": "markdown",
   "metadata": {},
   "source": [
    "### 3.1 Load the weatherfile of your own [hometown](https://climate.onebuilding.org/WMO_Region_6_Europe/default.html) or load the sample from Garching, Germany `'./data/tmy_48.264_11.670_2005_2020.epw'`"
   ]
  },
  {
   "cell_type": "code",
   "execution_count": null,
   "metadata": {},
   "outputs": [],
   "source": []
  },
  {
   "cell_type": "markdown",
   "metadata": {},
   "source": [
    "### 3.2 Analyze the data of the new location and compare it to Granada, Spain\n",
    "\n",
    "Have a detailed look on the radiation types at the two different locations. What can be seen? Which one has a greater potential for the different solar technologies listed in question 2.9?"
   ]
  },
  {
   "cell_type": "code",
   "execution_count": null,
   "metadata": {},
   "outputs": [],
   "source": []
  }
 ],
 "metadata": {
  "kernelspec": {
   "display_name": "csp",
   "language": "python",
   "name": "python3"
  },
  "language_info": {
   "codemirror_mode": {
    "name": "ipython",
    "version": 3
   },
   "file_extension": ".py",
   "mimetype": "text/x-python",
   "name": "python",
   "nbconvert_exporter": "python",
   "pygments_lexer": "ipython3",
   "version": "3.11.13"
  }
 },
 "nbformat": 4,
 "nbformat_minor": 2
}
